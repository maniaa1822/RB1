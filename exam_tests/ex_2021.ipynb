{
 "cells": [
  {
   "cell_type": "code",
   "execution_count": null,
   "id": "99a03e5b-011a-4d63-81cd-0e2115690fad",
   "metadata": {},
   "outputs": [],
   "source": [
    "#%% Imports and Setup \n",
    "\n",
    "import numpy as np\n",
    "import sympy as sp\n",
    "from sympy import Matrix, cos, sin, simplify, atan2, pi, symbols\n",
    "import matplotlib.pyplot as plt\n",
    "from math import radians, degrees\n",
    "\n",
    "# Import our robotics library functions\n",
    "from robotics_lib import *\n",
    "# Define symbolic variables\n",
    "q1, q2, q3, q4 = symbols('q1 q2 q3 q4', real=True)\n",
    "l1, l2, l3 = symbols('l1 l2 l3', real=True)\n",
    "alpha, beta, gamma = symbols('alpha beta gamma', real=True)\n",
    "t, T = symbols('t T', real=True)\n",
    "\n",
    "def S(v):\n",
    "    \"\"\"Create skew-symmetric matrix\"\"\"\n",
    "    return Matrix([\n",
    "        [0, -v[2], v[1]],\n",
    "        [v[2], 0, -v[0]],\n",
    "        [-v[1], v[0], 0]\n",
    "    ])"
   ]
  },
  {
   "cell_type": "code",
   "execution_count": null,
   "id": "59a8d5c6-dd53-4939-a41f-184774647dcf",
   "metadata": {},
   "outputs": [
    {
     "data": {
      "text/latex": [
       "$\\displaystyle \\left[\\begin{matrix}\\sin{\\left(\\alpha \\right)} \\sin{\\left(\\beta \\right)} \\sin{\\left(\\gamma \\right)} + \\cos{\\left(\\alpha \\right)} \\cos{\\left(\\gamma \\right)} & \\sin{\\left(\\alpha \\right)} \\sin{\\left(\\beta \\right)} \\cos{\\left(\\gamma \\right)} - \\sin{\\left(\\gamma \\right)} \\cos{\\left(\\alpha \\right)} & \\sin{\\left(\\alpha \\right)} \\cos{\\left(\\beta \\right)}\\\\\\sin{\\left(\\gamma \\right)} \\cos{\\left(\\beta \\right)} & \\cos{\\left(\\beta \\right)} \\cos{\\left(\\gamma \\right)} & - \\sin{\\left(\\beta \\right)}\\\\- \\sin{\\left(\\alpha \\right)} \\cos{\\left(\\gamma \\right)} + \\sin{\\left(\\beta \\right)} \\sin{\\left(\\gamma \\right)} \\cos{\\left(\\alpha \\right)} & \\sin{\\left(\\alpha \\right)} \\sin{\\left(\\gamma \\right)} + \\sin{\\left(\\beta \\right)} \\cos{\\left(\\alpha \\right)} \\cos{\\left(\\gamma \\right)} & \\cos{\\left(\\alpha \\right)} \\cos{\\left(\\beta \\right)}\\end{matrix}\\right]$"
      ],
      "text/plain": [
       "Matrix([\n",
       "[ sin(alpha)*sin(beta)*sin(gamma) + cos(alpha)*cos(gamma), sin(alpha)*sin(beta)*cos(gamma) - sin(gamma)*cos(alpha), sin(alpha)*cos(beta)],\n",
       "[                                    sin(gamma)*cos(beta),                                    cos(beta)*cos(gamma),           -sin(beta)],\n",
       "[-sin(alpha)*cos(gamma) + sin(beta)*sin(gamma)*cos(alpha), sin(alpha)*sin(gamma) + sin(beta)*cos(alpha)*cos(gamma), cos(alpha)*cos(beta)]])"
      ]
     },
     "execution_count": 2,
     "metadata": {},
     "output_type": "execute_result"
    }
   ],
   "source": [
    "#%% YXZ Euler Rotation\n",
    "\n",
    "R_yxz = euler_rotation('yxz', [alpha, beta, gamma])\n",
    "R_yxz"
   ]
  },
  {
   "cell_type": "code",
   "execution_count": null,
   "id": "4ee1dcda-1f85-47d8-86d7-01b3ed2dde6b",
   "metadata": {},
   "outputs": [
    {
     "data": {
      "text/plain": [
       "('R =',\n",
       " Matrix([\n",
       " [-1.67289863829858e-16,                  1.0, 6.12323399573677e-17],\n",
       " [                  0.5, 3.06161699786838e-17,    0.866025403784439],\n",
       " [    0.866025403784439, 1.75493441850981e-16,                 -0.5]]),\n",
       " 'WR_B =',\n",
       " Matrix([\n",
       " [-1.67289863829858e-16,                  1.0, 6.12323399573677e-17],\n",
       " [                  0.5, 3.06161699786838e-17,    0.866025403784439],\n",
       " [    0.866025403784439, 1.75493441850981e-16,                 -0.5]]))"
      ]
     },
     "execution_count": 3,
     "metadata": {},
     "output_type": "execute_result"
    }
   ],
   "source": [
    "#%% Substitute values and calculate WR_B\n",
    "\n",
    "R = R_yxz.subs({\n",
    "    alpha: radians(180),\n",
    "    beta: radians(-60),\n",
    "    gamma: radians(90)\n",
    "})\n",
    "WR_B = R\n",
    "\n",
    "# Display both matrices\n",
    "('R =', R, 'WR_B =', WR_B)"
   ]
  },
  {
   "cell_type": "code",
   "execution_count": null,
   "id": "d4f8fc0d-4abf-4322-bc5c-1975114255aa",
   "metadata": {},
   "outputs": [
    {
     "data": {
      "text/plain": [
       "('BV_B =',\n",
       " Matrix([\n",
       " [ 1],\n",
       " [-1],\n",
       " [ 0]]),\n",
       " 'WR_B_dot =',\n",
       " Matrix([\n",
       " [1.11022302462516e-16, 6.12323399573677e-17,               -1.0],\n",
       " [   0.866025403784439,    0.866025403784439,               -0.5],\n",
       " [                -0.5,                 -0.5, -0.866025403784439]]))"
      ]
     },
     "execution_count": 4,
     "metadata": {},
     "output_type": "execute_result"
    }
   ],
   "source": [
    "#%% Angular velocity\n",
    "\n",
    "BV_B = Matrix([1, -1, 0])\n",
    "WR_B_dot = S(WR_B * BV_B) * WR_B\n",
    "\n",
    "('BV_B =', BV_B, 'WR_B_dot =', WR_B_dot)"
   ]
  },
  {
   "cell_type": "code",
   "execution_count": null,
   "id": "e3c5c7f8-714d-4e4c-a7a2-0871afd60d9a",
   "metadata": {},
   "outputs": [
    {
     "data": {
      "text/plain": [
       "('DH Parameters:',\n",
       " Matrix([\n",
       " [-pi/2, -l1, l0, q1],\n",
       " [-pi/2, -l2,  0, q2],\n",
       " [    0, -l3,  0, q3]]))"
      ]
     },
     "execution_count": 6,
     "metadata": {},
     "output_type": "execute_result"
    }
   ],
   "source": [
    "#%% First Robot Configuration - DH Parameters\n",
    "\n",
    "alpha = [-pi/2, -pi/2, 0]\n",
    "a = [-l1, -l2, -l3]\n",
    "d = [symbols('l0'), 0, 0]\n",
    "theta = [q1, q2, q3]\n",
    "\n",
    "table = Matrix([\n",
    "    [alpha[0], a[0], d[0], theta[0]],\n",
    "    [alpha[1], a[1], d[1], theta[1]],\n",
    "    [alpha[2], a[2], d[2], theta[2]]\n",
    "])\n",
    "\n",
    "('DH Parameters:', table)"
   ]
  },
  {
   "cell_type": "code",
   "execution_count": null,
   "id": "759686e5-04da-4e85-98ea-afc755426c4d",
   "metadata": {},
   "outputs": [
    {
     "data": {
      "text/plain": [
       "('A0_1 =',\n",
       " Matrix([\n",
       " [cos(q1),  0, -sin(q1), -l1*cos(q1)],\n",
       " [sin(q1),  0,  cos(q1), -l1*sin(q1)],\n",
       " [      0, -1,        0,          l0],\n",
       " [      0,  0,        0,           1]]),\n",
       " 'A1_2 =',\n",
       " Matrix([\n",
       " [cos(q2),  0, -sin(q2), -l2*cos(q2)],\n",
       " [sin(q2),  0,  cos(q2), -l2*sin(q2)],\n",
       " [      0, -1,        0,           0],\n",
       " [      0,  0,        0,           1]]),\n",
       " 'A2_3 =',\n",
       " Matrix([\n",
       " [cos(q3), -sin(q3), 0, -l3*cos(q3)],\n",
       " [sin(q3),  cos(q3), 0, -l3*sin(q3)],\n",
       " [      0,        0, 1,           0],\n",
       " [      0,        0, 0,           1]]),\n",
       " 'T =',\n",
       " Matrix([\n",
       " [sin(q1)*sin(q3) + cos(q1)*cos(q2)*cos(q3),  sin(q1)*cos(q3) - sin(q3)*cos(q1)*cos(q2), -sin(q2)*cos(q1), -l1*cos(q1) - l2*cos(q1)*cos(q2) - l3*sin(q1)*sin(q3) - l3*cos(q1)*cos(q2)*cos(q3)],\n",
       " [sin(q1)*cos(q2)*cos(q3) - sin(q3)*cos(q1), -sin(q1)*sin(q3)*cos(q2) - cos(q1)*cos(q3), -sin(q1)*sin(q2), -l1*sin(q1) - l2*sin(q1)*cos(q2) - l3*sin(q1)*cos(q2)*cos(q3) + l3*sin(q3)*cos(q1)],\n",
       " [                         -sin(q2)*cos(q3),                            sin(q2)*sin(q3),         -cos(q2),                                               l0 + l2*sin(q2) + l3*sin(q2)*cos(q3)],\n",
       " [                                        0,                                          0,                0,                                                                                  1]]))"
      ]
     },
     "execution_count": 7,
     "metadata": {},
     "output_type": "execute_result"
    }
   ],
   "source": [
    "#%% Calculate transformations\n",
    "\n",
    "T, A = dh_matrix(table)\n",
    "\n",
    "('A0_1 =', A[0], \n",
    " 'A1_2 =', A[1], \n",
    " 'A2_3 =', A[2], \n",
    " 'T =', T)"
   ]
  },
  {
   "cell_type": "code",
   "execution_count": null,
   "id": "cce4d2a8-0c28-4294-b022-9ecee8c2625f",
   "metadata": {},
   "outputs": [
    {
     "data": {
      "text/plain": [
       "('f_r_3D =',\n",
       " Matrix([\n",
       " [-l1*cos(q1) - l2*cos(q1)*cos(q2) - l3*sin(q1)*sin(q3) - l3*cos(q1)*cos(q2)*cos(q3)],\n",
       " [-l1*sin(q1) - l2*sin(q1)*cos(q2) - l3*sin(q1)*cos(q2)*cos(q3) + l3*sin(q3)*cos(q1)],\n",
       " [                                              l0 + l2*sin(q2) + l3*sin(q2)*cos(q3)],\n",
       " [                                                                      q1 + q2 + q3]]),\n",
       " 'f_r =',\n",
       " Matrix([\n",
       " [-l1*cos(q1) - l2*cos(q1)*cos(q2) - l3*sin(q1)*sin(q3) - l3*cos(q1)*cos(q2)*cos(q3)],\n",
       " [-l1*sin(q1) - l2*sin(q1)*cos(q2) - l3*sin(q1)*cos(q2)*cos(q3) + l3*sin(q3)*cos(q1)],\n",
       " [                                              l0 + l2*sin(q2) + l3*sin(q2)*cos(q3)]]))"
      ]
     },
     "execution_count": 8,
     "metadata": {},
     "output_type": "execute_result"
    }
   ],
   "source": [
    "#%% Forward kinematics\n",
    "\n",
    "f_r_3D = get_f_r(T)\n",
    "f_r = Matrix([f_r_3D[0], f_r_3D[1], f_r_3D[2]])\n",
    "\n",
    "('f_r_3D =', f_r_3D, 'f_r =', f_r)"
   ]
  },
  {
   "cell_type": "code",
   "execution_count": null,
   "id": "92cd8a28-0959-4b86-92ee-fd2e16e40e4b",
   "metadata": {},
   "outputs": [
    {
     "data": {
      "text/plain": [
       "('Second Robot DH Parameters:',\n",
       " Matrix([\n",
       " [    0, l1,  0,        q1],\n",
       " [-pi/2,  0,  0, q2 - pi/2],\n",
       " [ pi/2,  0, q3,         0],\n",
       " [    0, l2,  0, q4 + pi/2]]))"
      ]
     },
     "execution_count": 10,
     "metadata": {},
     "output_type": "execute_result"
    }
   ],
   "source": [
    "#%% Second Robot Configuration\n",
    "\n",
    "alpha2 = [0, -pi/2, pi/2, 0]\n",
    "a2 = [l1, 0, 0, l2]\n",
    "d2 = [0, 0, q3, 0]\n",
    "theta2 = [q1, q2-pi/2, 0, q4+pi/2]\n",
    "\n",
    "table2 = Matrix([\n",
    "    [alpha2[0], a2[0], d2[0], theta2[0]],\n",
    "    [alpha2[1], a2[1], d2[1], theta2[1]],\n",
    "    [alpha2[2], a2[2], d2[2], theta2[2]],\n",
    "    [alpha2[3], a2[3], d2[3], theta2[3]]\n",
    "])\n",
    "\n",
    "('Second Robot DH Parameters:', table2)"
   ]
  },
  {
   "cell_type": "code",
   "execution_count": null,
   "id": "7ad416bf-d9f2-4de3-8e01-b4f6a2fd558f",
   "metadata": {},
   "outputs": [
    {
     "data": {
      "text/plain": [
       "('T2 =',\n",
       " Matrix([\n",
       " [cos(q1 + q2 + q4), -sin(q1 + q2 + q4), 0, l1*cos(q1) + l2*cos(q1 + q2 + q4) + q3*cos(q1 + q2)],\n",
       " [sin(q1 + q2 + q4),  cos(q1 + q2 + q4), 0, l1*sin(q1) + l2*sin(q1 + q2 + q4) + q3*sin(q1 + q2)],\n",
       " [                0,                  0, 1,                                                   0],\n",
       " [                0,                  0, 0,                                                   1]]),\n",
       " 'f_r2 =',\n",
       " Matrix([\n",
       " [l1*cos(q1) + l2*cos(q1 + q2 + q4) + q3*cos(q1 + q2)],\n",
       " [l1*sin(q1) + l2*sin(q1 + q2 + q4) + q3*sin(q1 + q2)],\n",
       " [                                       q1 + q2 + q4]]),\n",
       " 'Jacobian =',\n",
       " Matrix([\n",
       " [-l1*sin(q1) - l2*sin(q1 + q2 + q4) - q3*sin(q1 + q2), -l2*sin(q1 + q2 + q4) - q3*sin(q1 + q2), cos(q1 + q2), -l2*sin(q1 + q2 + q4)],\n",
       " [ l1*cos(q1) + l2*cos(q1 + q2 + q4) + q3*cos(q1 + q2),  l2*cos(q1 + q2 + q4) + q3*cos(q1 + q2), sin(q1 + q2),  l2*cos(q1 + q2 + q4)],\n",
       " [                                                   1,                                       1,            0,                     1]]))"
      ]
     },
     "execution_count": 11,
     "metadata": {},
     "output_type": "execute_result"
    }
   ],
   "source": [
    "#%% Second Robot Forward Kinematics and Jacobian\n",
    "\n",
    "T2, A2 = dh_matrix(table2)\n",
    "f_r_3D2 = get_f_r(T2)\n",
    "f_r2 = Matrix([f_r_3D2[0], f_r_3D2[1], f_r_3D2[3]])  # Using alpha_z instead of z\n",
    "j = simplify(f_r2.jacobian([q1, q2, q3, q4]))\n",
    "\n",
    "('T2 =', T2,\n",
    " 'f_r2 =', f_r2,\n",
    " 'Jacobian =', j)"
   ]
  },
  {
   "cell_type": "code",
   "execution_count": null,
   "id": "ce871a94-1155-465c-9cf1-0d60dc247c3c",
   "metadata": {},
   "outputs": [
    {
     "data": {
      "text/plain": [
       "('r =',\n",
       " Matrix([\n",
       " [1.0*cos(q1) + 1.0*cos(q1 + q2)],\n",
       " [1.0*sin(q1) + 1.0*sin(q1 + q2)]]),\n",
       " 'J =',\n",
       " Matrix([\n",
       " [-1.0*sin(q1) - 1.0*sin(q1 + q2), -1.0*sin(q1 + q2)],\n",
       " [ 1.0*cos(q1) + 1.0*cos(q1 + q2),  1.0*cos(q1 + q2)]]))"
      ]
     },
     "execution_count": 12,
     "metadata": {},
     "output_type": "execute_result"
    }
   ],
   "source": [
    "#%% Planar 2R Robot\n",
    "\n",
    "l1_val = 1.0\n",
    "l2_val = 1.0\n",
    "\n",
    "def planar_2R_kinematics(q1, q2, l1=l1_val, l2=l2_val):\n",
    "    r = Matrix([\n",
    "        l1*cos(q1) + l2*cos(q1+q2),\n",
    "        l1*sin(q1) + l2*sin(q1+q2)\n",
    "    ])\n",
    "    J = r.jacobian([q1, q2])\n",
    "    return r, J\n",
    "\n",
    "r, J = planar_2R_kinematics(q1, q2)\n",
    "('r =', r, 'J =', J)"
   ]
  },
  {
   "cell_type": "code",
   "execution_count": null,
   "id": "a9d9f610-ead3-4f1b-a9a8-386408cc39d9",
   "metadata": {},
   "outputs": [
    {
     "data": {
      "text/plain": [
       "('tau_a =',\n",
       " Matrix([\n",
       " [-7.07106781186547*sqrt(2)],\n",
       " [                        0]]),\n",
       " 'tau_b =',\n",
       " Matrix([\n",
       " [               0],\n",
       " [7.07106781186547]]))"
      ]
     },
     "execution_count": 13,
     "metadata": {},
     "output_type": "execute_result"
    }
   ],
   "source": [
    "#%% Test configurations\n",
    "\n",
    "qa = Matrix([3*pi/4, -pi/2])\n",
    "qb = Matrix([pi/2, -pi/2])\n",
    "FA = (10/np.sqrt(2))*Matrix([1, 1])\n",
    "\n",
    "J_qa = J.subs({q1: qa[0], q2: qa[1]})\n",
    "tau_a = J_qa.transpose() * FA\n",
    "\n",
    "FB = (10/np.sqrt(2))*Matrix([-1, -1])\n",
    "J_qb = J.subs({q1: qb[0], q2: qb[1]})\n",
    "tau_b = -J_qb.transpose() * FB\n",
    "\n",
    "('tau_a =', tau_a, 'tau_b =', tau_b)"
   ]
  },
  {
   "cell_type": "code",
   "execution_count": null,
   "id": "2949f97c-ad64-408d-bcf9-c73b53d1ef55",
   "metadata": {},
   "outputs": [],
   "source": [
    "#%% Trajectory Generation\n",
    "\n",
    "def cubic_polynomial(t, T, qi, qf, vi, vf):\n",
    "    \"\"\"Generate cubic polynomial trajectory\"\"\"\n",
    "    Dq = qf - qi\n",
    "    \n",
    "    # Calculate coefficients\n",
    "    a = (T*vf + T*vi - 2*Dq)/Dq\n",
    "    b = (3*Dq - 2*T*vi - T*vf)/Dq\n",
    "    c = T*vi/Dq\n",
    "    d = 0\n",
    "    \n",
    "    # Normalized time\n",
    "    tau = t/T\n",
    "    \n",
    "    # Generate trajectory\n",
    "    q = qi + Dq*(a*tau**3 + b*tau**2 + c*tau + d)\n",
    "    return q"
   ]
  },
  {
   "cell_type": "code",
   "execution_count": null,
   "id": "889f599a-250a-4411-93c6-204da6840f1b",
   "metadata": {},
   "outputs": [
    {
     "data": {
      "text/plain": [
       "('Joint 1 coefficients:',\n",
       " 'a = -1.1349',\n",
       " 'b = 2.1349',\n",
       " 'c = 0.0000',\n",
       " 'd = 0.0000')"
      ]
     },
     "execution_count": 15,
     "metadata": {},
     "output_type": "execute_result"
    }
   ],
   "source": [
    "#%% Joint 1 trajectory coefficients\n",
    "\n",
    "T_val = 2\n",
    "qi = pi\n",
    "qf = 1.4805\n",
    "vi = 0\n",
    "vf = -0.7185\n",
    "Dq = qf - qi\n",
    "\n",
    "a1 = (T_val*vf + T_val*vi - 2*Dq)/Dq\n",
    "b1 = (3*Dq - 2*T_val*vi - T_val*vf)/Dq\n",
    "c1 = T_val*vi/Dq\n",
    "d1 = 0\n",
    "\n",
    "('Joint 1 coefficients:',\n",
    " f'a = {a1:.4f}',\n",
    " f'b = {b1:.4f}',\n",
    " f'c = {c1:.4f}',\n",
    " f'd = {d1:.4f}')"
   ]
  },
  {
   "cell_type": "code",
   "execution_count": null,
   "id": "3cf41a5f-ee8a-4136-8b70-72674bc4fcaf",
   "metadata": {},
   "outputs": [
    {
     "data": {
      "text/plain": [
       "('Joint 2 coefficients:',\n",
       " 'a = -2.3998',\n",
       " 'b = 3.3998',\n",
       " 'c = -0.0000',\n",
       " 'd = 0.0000')"
      ]
     },
     "execution_count": 16,
     "metadata": {},
     "output_type": "execute_result"
    }
   ],
   "source": [
    "#%% Joint 2 coefficients\n",
    "\n",
    "qi = 0\n",
    "qf = -2.3016\n",
    "vi = 0\n",
    "vf = 0.4601\n",
    "Dq = qf - qi\n",
    "\n",
    "a2 = (T_val*vf + T_val*vi - 2*Dq)/Dq\n",
    "b2 = (3*Dq - 2*T_val*vi - T_val*vf)/Dq\n",
    "c2 = T_val*vi/Dq\n",
    "d2 = 0\n",
    "\n",
    "('Joint 2 coefficients:',\n",
    " f'a = {a2:.4f}',\n",
    " f'b = {b2:.4f}',\n",
    " f'c = {c2:.4f}',\n",
    " f'd = {d2:.4f}')"
   ]
  },
  {
   "cell_type": "code",
   "execution_count": null,
   "id": "fca297d3-9ded-4e3f-8342-a0064e31fa25",
   "metadata": {},
   "outputs": [
    {
     "data": {
      "image/png": "[encoded data removed]",
      "text/plain": [
       "<Figure size 1500x600 with 2 Axes>"
      ]
     },
     "metadata": {},
     "output_type": "display_data"
    }
   ],
   "source": [
    "#%% Generate and plot trajectories\n",
    "\n",
    "t_vals = np.linspace(0, 2, 100)\n",
    "q_traj1 = [cubic_polynomial(t, 2, pi, 1.4805, 0, -0.7185) for t in t_vals]\n",
    "q_traj2 = [cubic_polynomial(t, 2, 0, -2.3016, 0, 0.4601) for t in t_vals]\n",
    "\n",
    "fig, (ax1, ax2) = plt.subplots(1, 2, figsize=(15, 6))\n",
    "\n",
    "ax1.plot(t_vals, q_traj1)\n",
    "ax1.set_title('Joint 1 Trajectory')\n",
    "ax1.set_xlabel('Time (s)')\n",
    "ax1.set_ylabel('Position (rad)')\n",
    "ax1.grid(True)\n",
    "\n",
    "ax2.plot(t_vals, q_traj2)\n",
    "ax2.set_title('Joint 2 Trajectory')\n",
    "ax2.set_xlabel('Time (s)')\n",
    "ax2.set_ylabel('Position (rad)')\n",
    "ax2.grid(True)\n",
    "\n",
    "plt.tight_layout()\n",
    "plt.show()"
   ]
  }
 ],
 "metadata": {
  "language_info": {
   "codemirror_mode": {
    "name": "ipython",
    "version": 3
   },
   "file_extension": ".py",
   "mimetype": "text/x-python",
   "name": "python",
   "nbconvert_exporter": "python",
   "pygments_lexer": "ipython3",
   "version": 3
  }
 },
 "nbformat": 4,
 "nbformat_minor": 2
}
